{
 "cells": [
  {
   "cell_type": "markdown",
   "metadata": {},
   "source": [
    "#### 理论证明\n",
    "ReLU 函数是一个分段线性函数，具有凸性，能够提取非线性特征。  \n",
    "通过适当的线性组合得到的神经网络，可以近似任何连续函数。  \n",
    "经典的通用逼近定理（Hornik et al., 1989）证明：只要有足够的隐藏单元，一个具有非线性激活函数（如 sigmoid, tanh）的单隐层神经网络就可以逼近任何定义在紧致子集上的连续函数。  \n",
    "后来，Montufar et al. (2014) 进一步分析了 ReLU 网络的表达能力，表明单隐藏层的 ReLU 网络可以划分输入空间，并在每个分区上拟合不同的线性函数，因此可以逼近任何连续函数。"
   ]
  },
  {
   "cell_type": "markdown",
   "metadata": {},
   "source": [
    "#### 实验证明\n",
    "这里用一个双层 ReLU 神经网络来拟合函数：y = sin(2πx)"
   ]
  },
  {
   "cell_type": "code",
   "execution_count": 1,
   "metadata": {},
   "outputs": [],
   "source": [
    "import numpy as np\n",
    "import matplotlib.pyplot as plt"
   ]
  },
  {
   "cell_type": "code",
   "execution_count": 2,
   "metadata": {},
   "outputs": [],
   "source": [
    "def f(x):\n",
    "    return np.sin(2 * np.pi * x)"
   ]
  },
  {
   "cell_type": "code",
   "execution_count": null,
   "metadata": {},
   "outputs": [
    {
     "name": "stdout",
     "output_type": "stream",
     "text": [
      "(100, 1)\n",
      "(100, 1)\n"
     ]
    }
   ],
   "source": [
    "N_train = 100\n",
    "\n",
    "# 训练数据\n",
    "x_train = np.linspace(0, 1, 100).reshape(-1, 1)\n",
    "y_train = f(x_train)\n",
    "\n",
    "# 测试数据\n",
    "x_test = np.linspace(0, 1, 100).reshape(-1, 1)\n",
    "y_test = f(x_test)\n",
    "\n",
    "# 线性变化\n",
    "x_train = (x_train - 0.5) * 2\n",
    "x_test = (x_test - 0.5) * 2\n",
    "\n",
    "print(x_train.shape)\n",
    "print(x_test.shape)"
   ]
  },
  {
   "cell_type": "code",
   "execution_count": 4,
   "metadata": {},
   "outputs": [],
   "source": [
    "input_dim = 1     # 输入维度\n",
    "hidden_dim = 200   # 隐藏层神经元个数\n",
    "output_dim = 1    # 输出维度\n",
    "\n",
    "np.random.seed(42)\n",
    "W1 = np.random.randn(input_dim, hidden_dim) * 0.1\n",
    "b1 = np.zeros((1, hidden_dim))\n",
    "W2 = np.random.randn(hidden_dim, output_dim) * 0.1\n",
    "b2 = np.zeros((1, output_dim))"
   ]
  },
  {
   "cell_type": "code",
   "execution_count": 5,
   "metadata": {},
   "outputs": [],
   "source": [
    "class Relu:\n",
    "    def __init__(self):\n",
    "        self.mem = {}\n",
    "        \n",
    "    def forward(self, x):\n",
    "        self.mem['x']=x\n",
    "        return np.where(x > 0, x, np.zeros_like(x))\n",
    "    \n",
    "    def backward(self, grad_y):\n",
    "        '''\n",
    "        grad_y: same shape as x\n",
    "        '''\n",
    "        ####################\n",
    "        '''计算relu 激活函数对应的梯度'''\n",
    "        x = self.mem['x']\n",
    "        grad_x = (x > 0).astype(np.float32) * grad_y\n",
    "        ####################\n",
    "        \n",
    "        return grad_x"
   ]
  },
  {
   "cell_type": "code",
   "execution_count": 6,
   "metadata": {},
   "outputs": [
    {
     "name": "stdout",
     "output_type": "stream",
     "text": [
      "Epoch 0: loss = 0.55008\n",
      "Epoch 100: loss = 0.10910\n",
      "Epoch 200: loss = 0.07262\n",
      "Epoch 300: loss = 0.03946\n",
      "Epoch 400: loss = 0.01920\n",
      "Epoch 500: loss = 0.01013\n",
      "Epoch 600: loss = 0.00629\n",
      "Epoch 700: loss = 0.00443\n",
      "Epoch 800: loss = 0.00342\n",
      "Epoch 900: loss = 0.00283\n",
      "Epoch 1000: loss = 0.00246\n",
      "Epoch 1100: loss = 0.00223\n",
      "Epoch 1200: loss = 0.00208\n",
      "Epoch 1300: loss = 0.00194\n",
      "Epoch 1400: loss = 0.00181\n",
      "Epoch 1500: loss = 0.00173\n",
      "Epoch 1600: loss = 0.00167\n",
      "Epoch 1700: loss = 0.00163\n",
      "Epoch 1800: loss = 0.00161\n",
      "Epoch 1900: loss = 0.00158\n",
      "Epoch 2000: loss = 0.00157\n",
      "Epoch 2100: loss = 0.00155\n",
      "Epoch 2200: loss = 0.00154\n",
      "Epoch 2300: loss = 0.00153\n",
      "Epoch 2400: loss = 0.00152\n",
      "Epoch 2500: loss = 0.00151\n",
      "Epoch 2600: loss = 0.00150\n",
      "Epoch 2700: loss = 0.00149\n",
      "Epoch 2800: loss = 0.00148\n",
      "Epoch 2900: loss = 0.00147\n",
      "Epoch 3000: loss = 0.00146\n",
      "Epoch 3100: loss = 0.00144\n",
      "Epoch 3200: loss = 0.00142\n",
      "Epoch 3300: loss = 0.00141\n",
      "Epoch 3400: loss = 0.00140\n",
      "Epoch 3500: loss = 0.00139\n",
      "Epoch 3600: loss = 0.00139\n",
      "Epoch 3700: loss = 0.00138\n",
      "Epoch 3800: loss = 0.00137\n",
      "Epoch 3900: loss = 0.00136\n",
      "Epoch 4000: loss = 0.00136\n",
      "Epoch 4100: loss = 0.00135\n",
      "Epoch 4200: loss = 0.00134\n",
      "Epoch 4300: loss = 0.00133\n",
      "Epoch 4400: loss = 0.00132\n",
      "Epoch 4500: loss = 0.00131\n",
      "Epoch 4600: loss = 0.00128\n",
      "Epoch 4700: loss = 0.00121\n",
      "Epoch 4800: loss = 0.00115\n",
      "Epoch 4900: loss = 0.00111\n",
      "Epoch 5000: loss = 0.00108\n",
      "Epoch 5100: loss = 0.00105\n",
      "Epoch 5200: loss = 0.00102\n",
      "Epoch 5300: loss = 0.00099\n",
      "Epoch 5400: loss = 0.00097\n",
      "Epoch 5500: loss = 0.00095\n",
      "Epoch 5600: loss = 0.00093\n",
      "Epoch 5700: loss = 0.00091\n",
      "Epoch 5800: loss = 0.00089\n",
      "Epoch 5900: loss = 0.00088\n",
      "Epoch 6000: loss = 0.00087\n",
      "Epoch 6100: loss = 0.00086\n",
      "Epoch 6200: loss = 0.00085\n",
      "Epoch 6300: loss = 0.00084\n",
      "Epoch 6400: loss = 0.00083\n",
      "Epoch 6500: loss = 0.00082\n",
      "Epoch 6600: loss = 0.00081\n",
      "Epoch 6700: loss = 0.00080\n",
      "Epoch 6800: loss = 0.00079\n",
      "Epoch 6900: loss = 0.00078\n"
     ]
    }
   ],
   "source": [
    "# 超参数设置\n",
    "lr = 0.1\n",
    "epochs = 7000\n",
    "\n",
    "loss_history = []\n",
    "\n",
    "relu = Relu()\n",
    "\n",
    "# 训练过程（全批量梯度下降）\n",
    "for epoch in range(epochs):\n",
    "    # 前向传播\n",
    "    z1 = np.dot(x_train, W1) + b1\n",
    "    a1 = relu.forward(z1)                      \n",
    "    \n",
    "    # 输出层计算：z2 = a1 * W2 + b2\n",
    "    z2 = np.dot(a1, W2) + b2             \n",
    "    y_pred = z2 \n",
    "    \n",
    "    # 均方误差损失\n",
    "    loss = np.mean((y_pred - y_train) ** 2)\n",
    "    loss_history.append(loss)\n",
    "    \n",
    "    # 反向传播 \n",
    "    dL_dz2 = 2 * (y_pred - y_train) / N_train\n",
    "    \n",
    "    # 参数 W2, a1, b2 的梯度\n",
    "    dW2 = np.dot(a1.T, dL_dz2) \n",
    "    db2 = np.sum(dL_dz2, axis=0, keepdims=True)\n",
    "    dL_da1 = np.dot(dL_dz2, W2.T)\n",
    "\n",
    "    dL_dz1 = relu.backward(dL_da1)  # 利用ReLU的导数\n",
    "    \n",
    "    # 参数 W1, b1 的梯度\n",
    "    dW1 = np.dot(x_train.T, dL_dz1)\n",
    "    db1 = np.sum(dL_dz1, axis=0, keepdims=True)\n",
    "    \n",
    "    # 更新参数\n",
    "    W2 -= lr * dW2\n",
    "    b2 -= lr * db2\n",
    "    W1 -= lr * dW1\n",
    "    b1 -= lr * db1\n",
    "    \n",
    "    # 每100个epoch打印一次损失\n",
    "    if epoch % 100 == 0:\n",
    "        print(\"Epoch {}: loss = {:.5f}\".format(epoch, loss))"
   ]
  },
  {
   "cell_type": "code",
   "execution_count": 7,
   "metadata": {},
   "outputs": [
    {
     "data": {
      "image/png": "[encoded data removed]",
      "text/plain": [
       "<Figure size 640x480 with 1 Axes>"
      ]
     },
     "metadata": {},
     "output_type": "display_data"
    }
   ],
   "source": [
    "z1_test = np.dot(x_test, W1) + b1\n",
    "a1_test = relu.forward(z1_test)\n",
    "y_test_pred = np.dot(a1_test, W2) + b2\n",
    "\n",
    "# 绘制真实函数与网络预测的对比图\n",
    "\n",
    "plt.plot(x_test, y_test, label=\"sin\", linewidth=2)\n",
    "plt.plot(x_test, y_test_pred, label=\"pred\", linestyle=\"--\", linewidth=2)\n",
    "\n",
    "plt.xlabel(\"x\")\n",
    "plt.ylabel(\"y\")\n",
    "plt.legend()\n",
    "plt.title(\"ReLU\")\n",
    "plt.show()"
   ]
  },
  {
   "cell_type": "code",
   "execution_count": null,
   "metadata": {},
   "outputs": [],
   "source": []
  }
 ],
 "metadata": {
  "kernelspec": {
   "display_name": "env_pytorch",
   "language": "python",
   "name": "pytorch"
  },
  "language_info": {
   "codemirror_mode": {
    "name": "ipython",
    "version": 3
   },
   "file_extension": ".py",
   "mimetype": "text/x-python",
   "name": "python",
   "nbconvert_exporter": "python",
   "pygments_lexer": "ipython3",
   "version": "3.11.7"
  }
 },
 "nbformat": 4,
 "nbformat_minor": 2
}
